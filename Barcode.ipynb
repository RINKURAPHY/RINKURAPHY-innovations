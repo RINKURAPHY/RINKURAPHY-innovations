{
 "cells": [
  {
   "cell_type": "code",
   "execution_count": 20,
   "id": "f83279e3-fbe0-4d42-b127-fea4c2a328bf",
   "metadata": {},
   "outputs": [
    {
     "name": "stdout",
     "output_type": "stream",
     "text": [
      "Requirement already satisfied: python-barcode in c:\\users\\jose\\anaconda3\\lib\\site-packages (0.15.1)\n",
      "Requirement already satisfied: pillow in c:\\users\\jose\\anaconda3\\lib\\site-packages (10.3.0)\n",
      "Note: you may need to restart the kernel to use updated packages.\n"
     ]
    }
   ],
   "source": [
    "pip install python-barcode pillow\n"
   ]
  },
  {
   "cell_type": "code",
   "execution_count": 26,
   "id": "42cfcfe9-546e-4185-b5f2-0a5110a2ecb2",
   "metadata": {},
   "outputs": [
    {
     "data": {
      "image/png": "[encoded data removed]",
      "text/plain": [
       "<IPython.core.display.Image object>"
      ]
     },
     "metadata": {},
     "output_type": "display_data"
    }
   ],
   "source": [
    "import barcode\n",
    "from barcode.writer import ImageWriter\n",
    "from IPython.display import Image,display\n",
    "barcode_format=barcode.get_barcode_class('ean13')\n",
    "barcode_number = '1011226676305'\n",
    "barcode_image=barcode_format(barcode_number,writer=ImageWriter())\n",
    "barcode_filename='barcode_image'\n",
    "barcode_image.save(barcode_filename)\n",
    "display(Image(filename=f'{barcode_filename}.png'))"
   ]
  },
  {
   "cell_type": "code",
   "execution_count": null,
   "id": "e855a410-0fcf-4e43-a20a-c016fa0a6fb3",
   "metadata": {},
   "outputs": [],
   "source": []
  }
 ],
 "metadata": {
  "kernelspec": {
   "display_name": "Python 3 (ipykernel)",
   "language": "python",
   "name": "python3"
  },
  "language_info": {
   "codemirror_mode": {
    "name": "ipython",
    "version": 3
   },
   "file_extension": ".py",
   "mimetype": "text/x-python",
   "name": "python",
   "nbconvert_exporter": "python",
   "pygments_lexer": "ipython3",
   "version": "3.12.4"
  }
 },
 "nbformat": 4,
 "nbformat_minor": 5
}
