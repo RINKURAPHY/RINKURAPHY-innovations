{
 "cells": [
  {
   "cell_type": "code",
   "execution_count": 3,
   "id": "acf86326-5a29-44a8-ac73-54566954aba9",
   "metadata": {},
   "outputs": [
    {
     "name": "stdout",
     "output_type": "stream",
     "text": [
      "Collecting sounddevice\n",
      "  Downloading sounddevice-0.5.1-py3-none-win_amd64.whl.metadata (1.4 kB)\n",
      "Requirement already satisfied: CFFI>=1.0 in c:\\users\\jose\\anaconda3\\lib\\site-packages (from sounddevice) (1.16.0)\n",
      "Requirement already satisfied: pycparser in c:\\users\\jose\\anaconda3\\lib\\site-packages (from CFFI>=1.0->sounddevice) (2.21)\n",
      "Downloading sounddevice-0.5.1-py3-none-win_amd64.whl (363 kB)\n",
      "   ---------------------------------------- 0.0/363.6 kB ? eta -:--:--\n",
      "   ---------------------------------------- 0.0/363.6 kB ? eta -:--:--\n",
      "   - -------------------------------------- 10.2/363.6 kB ? eta -:--:--\n",
      "   --- ----------------------------------- 30.7/363.6 kB 262.6 kB/s eta 0:00:02\n",
      "   ---- ---------------------------------- 41.0/363.6 kB 330.3 kB/s eta 0:00:01\n",
      "   -------- ------------------------------ 81.9/363.6 kB 512.0 kB/s eta 0:00:01\n",
      "   --------- ----------------------------- 92.2/363.6 kB 438.1 kB/s eta 0:00:01\n",
      "   -------------- ----------------------- 143.4/363.6 kB 568.9 kB/s eta 0:00:01\n",
      "   ----------------- -------------------- 163.8/363.6 kB 579.6 kB/s eta 0:00:01\n",
      "   --------------------- ---------------- 204.8/363.6 kB 623.6 kB/s eta 0:00:01\n",
      "   -------------------------- ----------- 256.0/363.6 kB 684.6 kB/s eta 0:00:01\n",
      "   ----------------------------------- -- 337.9/363.6 kB 807.1 kB/s eta 0:00:01\n",
      "   -------------------------------------- 363.6/363.6 kB 780.1 kB/s eta 0:00:00\n",
      "Installing collected packages: sounddevice\n",
      "Successfully installed sounddevice-0.5.1\n"
     ]
    }
   ],
   "source": [
    "!pip install sounddevice"
   ]
  },
  {
   "cell_type": "code",
   "execution_count": 19,
   "id": "a1cf697f-8cd2-4442-9e8f-bae588583dfd",
   "metadata": {},
   "outputs": [],
   "source": [
    "import sounddevice\n",
    "from scipy.io.wavfile import write"
   ]
  },
  {
   "cell_type": "code",
   "execution_count": 21,
   "id": "3c163bef-68d4-4834-91ea-e7f5a50b9c70",
   "metadata": {},
   "outputs": [],
   "source": [
    "fs=44100"
   ]
  },
  {
   "cell_type": "code",
   "execution_count": 23,
   "id": "7ef79e03-8f22-4320-ab10-5dd7c6a71606",
   "metadata": {},
   "outputs": [
    {
     "name": "stdin",
     "output_type": "stream",
     "text": [
      "ENTER THE RECORDING TIME IN SECOND: 10\n"
     ]
    },
    {
     "name": "stdout",
     "output_type": "stream",
     "text": [
      "Recording....\n",
      "\n",
      "RECORDING IS DONE PLEASE CHECK YOUR FOLDER TO LISTEN RECORDING\n"
     ]
    }
   ],
   "source": [
    "second=int(input(\"ENTER THE RECORDING TIME IN SECOND:\"))\n",
    "print(\"Recording....\\n\")\n",
    "record_voice=sounddevice.rec(int(second*fs),samplerate=fs,channels=2)\n",
    "sounddevice.wait()\n",
    "write(\"MY RECORDING.WAV\",fs,record_voice)\n",
    "print(\"RECORDING IS DONE PLEASE CHECK YOUR FOLDER TO LISTEN RECORDING\")"
   ]
  },
  {
   "cell_type": "code",
   "execution_count": null,
   "id": "a2cc4293-017c-41d4-80c9-01a3744c0b13",
   "metadata": {},
   "outputs": [],
   "source": []
  }
 ],
 "metadata": {
  "kernelspec": {
   "display_name": "Python 3 (ipykernel)",
   "language": "python",
   "name": "python3"
  },
  "language_info": {
   "codemirror_mode": {
    "name": "ipython",
    "version": 3
   },
   "file_extension": ".py",
   "mimetype": "text/x-python",
   "name": "python",
   "nbconvert_exporter": "python",
   "pygments_lexer": "ipython3",
   "version": "3.12.4"
  }
 },
 "nbformat": 4,
 "nbformat_minor": 5
}
