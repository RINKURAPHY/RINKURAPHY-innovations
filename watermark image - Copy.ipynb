{
 "cells": [
  {
   "cell_type": "code",
   "execution_count": 1,
   "id": "55fd3355-f765-4c1f-9e11-34761125897a",
   "metadata": {},
   "outputs": [],
   "source": [
    "from PIL import Image,ImageDraw,ImageFont"
   ]
  },
  {
   "cell_type": "code",
   "execution_count": 9,
   "id": "4331ffad-5fe2-444d-8d9c-17f953ff6f2e",
   "metadata": {},
   "outputs": [],
   "source": [
    "def add_watermark(input_image_path,output_image_path,watermark_text):\n",
    "    original=Image.open(input_image_path).convert(\"RGBA\")\n",
    "    txt=Image.new(\"RGBA\",original.size,(255,255,255,0))\n",
    "    font=ImageFont.truetype(\"arial.ttf\",22)\n",
    "    draw=ImageDraw.Draw(txt)\n",
    "    width,height=original.size\n",
    "    text_bbox=draw.textbbox((0,0),watermark_text,font=font)\n",
    "    text_width=text_bbox[2]-text_bbox[0]\n",
    "    text_height=text_bbox[3]-text_bbox[1]\n",
    "    position=width-text_width-10,height-text_height-10\n",
    "    draw.text(position,watermark_text,fill=(255,255,255,128),font=font)\n",
    "    watermarked=Image.alpha_composite(original,txt)\n",
    "    watermarked.show()\n",
    "    watermarked.convert(\"RGB\").save(output_image_path,\"JPEG\")\n",
    "add_watermark(\"cl.jpg\",\"cloutput.jpg\",\"Rinkus innovations\")\n",
    "    "
   ]
  },
  {
   "cell_type": "code",
   "execution_count": null,
   "id": "ef9e996e-4e09-43b6-aec7-77ee3dbc807d",
   "metadata": {},
   "outputs": [],
   "source": []
  },
  {
   "cell_type": "code",
   "execution_count": null,
   "id": "0930cd97-322f-45a0-a8e3-d155ea69dc10",
   "metadata": {},
   "outputs": [],
   "source": []
  }
 ],
 "metadata": {
  "kernelspec": {
   "display_name": "Python 3 (ipykernel)",
   "language": "python",
   "name": "python3"
  },
  "language_info": {
   "codemirror_mode": {
    "name": "ipython",
    "version": 3
   },
   "file_extension": ".py",
   "mimetype": "text/x-python",
   "name": "python",
   "nbconvert_exporter": "python",
   "pygments_lexer": "ipython3",
   "version": "3.12.4"
  }
 },
 "nbformat": 4,
 "nbformat_minor": 5
}
