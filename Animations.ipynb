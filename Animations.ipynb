{
 "cells": [
  {
   "cell_type": "code",
   "execution_count": 2,
   "id": "76f4ba37-9238-472d-9c2d-6037e8438406",
   "metadata": {},
   "outputs": [
    {
     "name": "stdout",
     "output_type": "stream",
     "text": [
      "Requirement already satisfied: pillow in c:\\users\\jose\\anaconda3\\lib\\site-packages (10.3.0)\n",
      "Requirement already satisfied: imageio in c:\\users\\jose\\anaconda3\\lib\\site-packages (2.33.1)\n",
      "Requirement already satisfied: numpy in c:\\users\\jose\\anaconda3\\lib\\site-packages (from imageio) (1.26.4)\n",
      "Note: you may need to restart the kernel to use updated packages.\n"
     ]
    }
   ],
   "source": [
    "pip install pillow imageio\n"
   ]
  },
  {
   "cell_type": "code",
   "execution_count": 10,
   "id": "db75a2e6-470e-41bc-9824-6b2147060a81",
   "metadata": {},
   "outputs": [],
   "source": [
    "from PIL import Image, ImageDraw, ImageFont\n",
    "import imageio\n",
    "\n",
    "width, height = 200, 200\n",
    "num_frames = 30\n",
    "frames = []\n",
    "\n",
    "# Load a font\n",
    "font = ImageFont.load_default()\n",
    "\n",
    "# Create frames with moving text\n",
    "for i in range(num_frames):\n",
    "    img = Image.new(\"RGB\", (width, height), \"white\")\n",
    "    draw = ImageDraw.Draw(img)\n",
    "    \n",
    "    # Move the text across the screen\n",
    "    text = \"Hello, World!\"\n",
    "    \n",
    "    # Use textbbox to calculate text size (width, height)\n",
    "    text_bbox = draw.textbbox((0, 0), text, font=font)\n",
    "    text_width, text_height = text_bbox[2] - text_bbox[0], text_bbox[3] - text_bbox[1]\n",
    "    \n",
    "    # Calculate the x-coordinate for the moving text\n",
    "    x = (width - text_width) * i / (num_frames - 1)\n",
    "    \n",
    "    # Draw the moving text\n",
    "    draw.text((x, height // 2 - text_height // 2), text, font=font, fill=\"black\")\n",
    "    \n",
    "    frames.append(img)\n",
    "\n",
    "# Save frames as an animated GIF\n",
    "imageio.mimsave(\"moving_text.gif\", frames, duration=0.1)\n"
   ]
  },
  {
   "cell_type": "code",
   "execution_count": 20,
   "id": "216b5726-184d-40e4-ad36-84790c47a47b",
   "metadata": {},
   "outputs": [],
   "source": [
    "from PIL import Image\n",
    "import imageio\n",
    "\n",
    "# Load the image you want to animate\n",
    "img = Image.open(\"Nayans.jpg\")\n",
    "\n",
    "# Set animation parameters\n",
    "width, height = 1000, 1000\n",
    "num_frames = 30\n",
    "frames = []\n",
    "\n",
    "# Create frames where the image moves horizontally\n",
    "for i in range(num_frames):\n",
    "    frame = Image.new(\"RGB\", (width, height), \"white\")\n",
    "    x = int((width - img.width) * i / (num_frames - 1))\n",
    "    frame.paste(img, (x, height // 2 - img.height // 2))\n",
    "    \n",
    "    frames.append(frame)\n",
    "\n",
    "# Save frames as an animated GIF\n",
    "imageio.mimsave(\"moving_image.gif\", frames, duration=0.1)\n"
   ]
  },
  {
   "cell_type": "code",
   "execution_count": null,
   "id": "690e30b2-eebd-4ce4-ac2c-ff070e37c569",
   "metadata": {},
   "outputs": [],
   "source": []
  }
 ],
 "metadata": {
  "kernelspec": {
   "display_name": "Python 3 (ipykernel)",
   "language": "python",
   "name": "python3"
  },
  "language_info": {
   "codemirror_mode": {
    "name": "ipython",
    "version": 3
   },
   "file_extension": ".py",
   "mimetype": "text/x-python",
   "name": "python",
   "nbconvert_exporter": "python",
   "pygments_lexer": "ipython3",
   "version": "3.12.4"
  }
 },
 "nbformat": 4,
 "nbformat_minor": 5
}
