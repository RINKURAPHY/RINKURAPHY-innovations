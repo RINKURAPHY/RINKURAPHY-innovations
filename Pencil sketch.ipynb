{
 "cells": [
  {
   "cell_type": "code",
   "execution_count": 23,
   "id": "e0a2a921-832b-422e-bfc5-1a87dd793cb9",
   "metadata": {},
   "outputs": [
    {
     "name": "stdout",
     "output_type": "stream",
     "text": [
      "Collecting opencv-pythonNote: you may need to restart the kernel to use updated packages.\n",
      "\n",
      "  Using cached opencv_python-4.10.0.84-cp37-abi3-win_amd64.whl.metadata (20 kB)\n",
      "Requirement already satisfied: numpy>=1.21.2 in c:\\users\\jose\\anaconda3\\lib\\site-packages (from opencv-python) (1.26.4)\n",
      "Using cached opencv_python-4.10.0.84-cp37-abi3-win_amd64.whl (38.8 MB)\n",
      "Installing collected packages: opencv-python\n",
      "Successfully installed opencv-python-4.10.0.84\n"
     ]
    }
   ],
   "source": [
    "pip install --user opencv-python\n"
   ]
  },
  {
   "cell_type": "code",
   "execution_count": 25,
   "id": "98698ec7-3e0e-467f-85ed-ddbd1ccaa27c",
   "metadata": {},
   "outputs": [],
   "source": [
    "import cv2\n",
    "import numpy as np"
   ]
  },
  {
   "cell_type": "code",
   "execution_count": 13,
   "id": "b302d77f-661b-446c-98dd-8a9649ee838c",
   "metadata": {},
   "outputs": [],
   "source": [
    "def pencil_sketch(image_path,output_path):\n",
    "    image=cv2.imread(image_path)\n",
    "    gray_image = cv2.cvtColor(image, cv2.COLOR_BGR2GRAY)\n",
    "    inverted_gray_image=cv2.bitwise_not(gray_image)\n",
    "    blurred_image=cv2.GaussianBlur(inverted_gray_image,(21,21),0)\n",
    "    inverted_blurred_image=cv2.bitwise_not(blurred_image)\n",
    "    pencil_sketch_image=cv2.divide(gray_image,inverted_blurred_image,scale=256.0)\n",
    "    cv2.imwrite(output_path, pencil_sketch_image)\n",
    "    cv2.waitKey(0) \n",
    "    cv2.destroyAllWindows()\n",
    "input_image_path='Nayans.jpg'\n",
    "output_image_path='Nayans_sketch.jpeg'\n",
    "pencil_sketch(input_image_path,output_image_path)"
   ]
  },
  {
   "cell_type": "code",
   "execution_count": null,
   "id": "dd10247e-528c-4430-8075-ecf6bb82608f",
   "metadata": {},
   "outputs": [],
   "source": []
  }
 ],
 "metadata": {
  "kernelspec": {
   "display_name": "Python 3 (ipykernel)",
   "language": "python",
   "name": "python3"
  },
  "language_info": {
   "codemirror_mode": {
    "name": "ipython",
    "version": 3
   },
   "file_extension": ".py",
   "mimetype": "text/x-python",
   "name": "python",
   "nbconvert_exporter": "python",
   "pygments_lexer": "ipython3",
   "version": "3.12.4"
  }
 },
 "nbformat": 4,
 "nbformat_minor": 5
}
